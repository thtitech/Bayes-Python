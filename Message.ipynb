{
 "cells": [
  {
   "cell_type": "code",
   "execution_count": 1,
   "metadata": {
    "collapsed": true
   },
   "outputs": [],
   "source": [
    "from os import makedirs\n",
    "from urllib.request import urlretrieve"
   ]
  },
  {
   "cell_type": "code",
   "execution_count": null,
   "metadata": {},
   "outputs": [],
   "source": [
    "# データの取得\n",
    "makedirs(\"data\", exist_ok=True)\n",
    "urlretrieve(\"https://git.io/vXTVC\", \"data/txtdata.csv\")"
   ]
  },
  {
   "cell_type": "code",
   "execution_count": 2,
   "metadata": {},
   "outputs": [],
   "source": [
    "import numpy as np\n",
    "import pymc as pm\n",
    "import matplotlib.pyplot as plt"
   ]
  },
  {
   "cell_type": "code",
   "execution_count": 3,
   "metadata": {
    "collapsed": true
   },
   "outputs": [],
   "source": [
    "data = np.loadtxt(\"data/txtdata.csv\")\n",
    "N = len(data)"
   ]
  },
  {
   "cell_type": "code",
   "execution_count": 4,
   "metadata": {},
   "outputs": [
    {
     "data": {
      "image/png": "[encoded data removed]",
      "text/plain": [
       "<matplotlib.figure.Figure at 0x7efc1f865d68>"
      ]
     },
     "metadata": {},
     "output_type": "display_data"
    }
   ],
   "source": [
    "# データの可視化\n",
    "plt.bar(np.arange(N), data, color = \"b\")\n",
    "plt.xlabel(\"Days\")\n",
    "plt.ylabel(\"Number of Message\")\n",
    "plt.title(\"Message\")\n",
    "plt.xlim(0, N)\n",
    "plt.show()"
   ]
  },
  {
   "cell_type": "code",
   "execution_count": null,
   "metadata": {},
   "outputs": [],
   "source": [
    "alpha = 1 / data.mean()\n",
    "\n",
    "# 事前分布は指数分布\n",
    "#lambda_1 = pm.Exponential(\"lambda_1\", alpha)\n",
    "#lambda_2 = pm.Exponential(\"lambda_2\", alpha)\n",
    "\n",
    "# 事前分布を一様分布にしてみる\n",
    "lambda_1 = pm.Uniform(\"lambda_1\", upper = (data.mean() * 2), lower = 0)\n",
    "lambda_2 = pm.Uniform(\"lambda_2\", upper = (data.mean() * 2), lower = 0)\n",
    "\n",
    "# 変化した日にちtau\n",
    "tau = pm.DiscreteUniform(\"tau\", lower = 0, upper = N)\n",
    "\n",
    "# ポアソン分布のパラメータ\n",
    "# tau日より前はlambda_1, あとはlambda_2\n",
    "lam = pm.Lambda(\"lam\", lambda tau = tau, lambda_1 = lambda_1, lambda_2 = lambda_2: np.array([(lambda_1 if (i < tau) else lambda_2)for i in range(N)]))\n",
    "# 観測結果の指定\n",
    "observe = pm.Poisson(\"obs\", lam, value = data, observed = True)\n",
    "\n",
    "model = pm.Model([observe, lambda_1, lambda_2, tau])\n",
    "\n",
    "mcmc = pm.MCMC()\n",
    "# 50000回サンプリングして10000個捨てる, 10個づつ記録する\n",
    "mcmc.sample(50000, 10000, thin=10)"
   ]
  },
  {
   "cell_type": "code",
   "execution_count": null,
   "metadata": {
    "scrolled": true
   },
   "outputs": [],
   "source": [
    "plt.close()\n",
    "pm.Matplot.plot(mcmc.trace(\"tau\"), common_scale=False)\n",
    "pm.Matplot.plot(mcmc.trace(\"lambda_1\"), common_scale=False)\n",
    "pm.Matplot.plot(mcmc.trace(\"lambda_2\"), common_scale=False)\n",
    "plt.show()\n"
   ]
  },
  {
   "cell_type": "code",
   "execution_count": null,
   "metadata": {},
   "outputs": [],
   "source": [
    "print(mcmc.lambda_1.summary())\n",
    "print(mcmc.lambda_2.summary())"
   ]
  },
  {
   "cell_type": "code",
   "execution_count": null,
   "metadata": {
    "collapsed": true
   },
   "outputs": [],
   "source": []
  }
 ],
 "metadata": {
  "kernelspec": {
   "display_name": "Python 3",
   "language": "python",
   "name": "python3"
  },
  "language_info": {
   "codemirror_mode": {
    "name": "ipython",
    "version": 3
   },
   "file_extension": ".py",
   "mimetype": "text/x-python",
   "name": "python",
   "nbconvert_exporter": "python",
   "pygments_lexer": "ipython3",
   "version": "3.6.2"
  }
 },
 "nbformat": 4,
 "nbformat_minor": 2
}
