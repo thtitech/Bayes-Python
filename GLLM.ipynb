{
 "cells": [
  {
   "cell_type": "code",
   "execution_count": null,
   "metadata": {},
   "outputs": [],
   "source": [
    "import numpy as np\n",
    "import pymc3 as pm3\n",
    "import pymc as pm\n",
    "import matplotlib.pyplot as plt\n",
    "import statsmodels.api as sm\n",
    "from scipy import optimize\n",
    "import csv"
   ]
  },
  {
   "cell_type": "code",
   "execution_count": null,
   "metadata": {},
   "outputs": [],
   "source": [
    "with open(\"data/data7a.csv\") as f:\n",
    "    reader = csv.reader(f)\n",
    "    data = []\n",
    "    next(reader)\n",
    "\n",
    "    for row in reader:\n",
    "        data.append(int(row[1]))\n",
    "print(data)\n",
    "data = np.array(data)"
   ]
  },
  {
   "cell_type": "code",
   "execution_count": null,
   "metadata": {
    "scrolled": true
   },
   "outputs": [],
   "source": [
    "N = len(data)\n",
    "\n",
    "with pm3.Model() as model:\n",
    "    s = pm3.Uniform(\"s\", upper= 10**2, lower= 0)\n",
    "    r = [pm3.Normal(name=\"r_{0}\".format(i), mu=0., tau=s**-2) for i in range(N)]\n",
    "    alpha = pm3.Uniform(\"alpha\", upper= 10**2, lower= -(10**2))\n",
    "    p = pm3.invlogit(alpha + r)\n",
    "    obs = pm3.Binomial(name=\"obs\", n=8, p=p, observed=data)\n",
    "    \n",
    "with model:\n",
    "    start = pm3.find_MAP(fmin=optimize.fmin_powell)\n",
    "    step = pm3.Metropolis()\n",
    "    trace = pm3.sample(5000, start=start, step=step)\n",
    "    pm3.summary(trace[2000:], varnames=[\"s\", \"alpha\", \"beta\"])"
   ]
  },
  {
   "cell_type": "code",
   "execution_count": null,
   "metadata": {
    "collapsed": true
   },
   "outputs": [],
   "source": [
    "x = []\n",
    "y = []\n",
    "\n",
    "with open(\"data/data7.csv\") as f:\n",
    "    reader = csv.reader(f)\n",
    "    next(reader)\n",
    "\n",
    "    for row in reader:\n",
    "        y.append(int(row[1]))\n",
    "        x.append(int(row[2]))\n",
    "\n",
    "x = np.array(x)\n",
    "y = np.array(y)"
   ]
  },
  {
   "cell_type": "code",
   "execution_count": null,
   "metadata": {
    "scrolled": true
   },
   "outputs": [],
   "source": [
    "N = len(x)\n",
    "\n",
    "with pm3.Model() as model:\n",
    "    s = pm3.Uniform(\"s\", upper= 10**2, lower= 0)\n",
    "    r = [pm3.Normal(name=\"r_{0}\".format(i), mu=0., tau=s**-2) for i in range(N)]\n",
    "    alpha = pm3.Uniform(\"alpha\", upper= 10**2, lower= -(10**2))\n",
    "    beta =  pm3.Uniform(\"beta\", upper= 10**2, lower= -(10**2))\n",
    "    p = pm3.invlogit(alpha + r + beta * x)\n",
    "    obs = pm3.Binomial(name=\"obs\", n=8, p=p, observed=y)\n",
    "    \n",
    "with model:\n",
    "    start = pm3.find_MAP(fmin=optimize.fmin_powell)\n",
    "    #step = pm3.Metropolis()\n",
    "    trace = pm3.sample(5000, start=start)\n",
    "    pm3.summary(trace[2000:], varnames=[\"s\", \"alpha\", \"beta\"])"
   ]
  },
  {
   "cell_type": "code",
   "execution_count": null,
   "metadata": {},
   "outputs": [],
   "source": [
    "pm3.traceplot(trace[2000:], varnames=[\"s\", \"alpha\", \"beta\"] )\n",
    "plt.show()"
   ]
  },
  {
   "cell_type": "code",
   "execution_count": null,
   "metadata": {
    "collapsed": true
   },
   "outputs": [],
   "source": []
  }
 ],
 "metadata": {
  "kernelspec": {
   "display_name": "Python [conda root]",
   "language": "python",
   "name": "conda-root-py"
  },
  "language_info": {
   "codemirror_mode": {
    "name": "ipython",
    "version": 3
   },
   "file_extension": ".py",
   "mimetype": "text/x-python",
   "name": "python",
   "nbconvert_exporter": "python",
   "pygments_lexer": "ipython3",
   "version": "3.5.4"
  }
 },
 "nbformat": 4,
 "nbformat_minor": 2
}
